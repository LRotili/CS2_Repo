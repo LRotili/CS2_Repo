{
 "cells": [
  {
   "cell_type": "markdown",
   "metadata": {},
   "source": [
    "# Rosalind"
   ]
  },
  {
   "cell_type": "markdown",
   "metadata": {},
   "source": [
    "## 01 lgis"
   ]
  },
  {
   "cell_type": "code",
   "execution_count": 27,
   "metadata": {},
   "outputs": [
    {
     "name": "stdout",
     "output_type": "stream",
     "text": [
      "[ 3 18 49 144 168 299 381 426 488 575 664 759 814 861 911 919 926 1048 1093 1161 1166 1346 1347 1377 1381 1390 1431 1552 1560 1588 1606 1810 1811 1826 1830 1841 1850 1929 2021 2199 2226 2247 2268 2376 2400 2473 2490 2493 2538 2662 2675 2813 2837 3001 3113 3165 3229 3380 3387 3501 3527 3528 3574 3594 3702 3727 3765 3786 3947 4022 4024 4204 4214 4370 4418 4450 4478 4514 4522 4531 4570 4687 4733 4887 4924 5077 5094 5248 5291 5302 5442 5453 5464 5517 5575 5644 5653 5665 5854 5863 5867 5872 6164 6173 6194 6276 6349 6410 6522 6533 6648 6650 6688 6721 6844 6873 6905 6942 6968 7052 7067 7070 7075 7262 7298 7317 7601 7687 7697 7705 7743 7769 7788 7793 7803 7828 7879 7945 7957 7982 8057 8080 8152 8182 8242 8312 8344 8350 8354 8364 8384 8462 8477 8512 8536 8545 8582 8660 8681 8738 8743 8771 8772 8802 8850 8866 9004 9061 9104 9174 9202 9294 9321 9351 9453 9474 9530 9543 9556 9586 9637 9647 9692 9702 9718 9761 ]\n",
      "[ 9689 9683 9673 9654 9643 9625 9577 9478 9448 9383 9345 9196 9148 9032 9000 8975 8945 8925 8890 8888 8831 8816 8784 8731 8689 8679 8640 8610 8599 8511 8474 8393 8283 8227 8214 8194 8149 8082 8024 7939 7789 7760 7748 7693 7607 7598 7475 7470 7458 7457 7368 7259 7136 7096 7093 7055 7028 7004 6966 6821 6817 6592 6591 6544 6537 6429 6405 6371 6350 6311 6293 6282 6260 6246 6233 6187 6111 6063 6006 5987 5955 5850 5811 5805 5747 5662 5602 5542 5535 5526 5502 5464 5412 5347 5260 5242 5204 5192 5183 4999 4991 4955 4940 4933 4912 4886 4873 4855 4837 4836 4804 4760 4723 4703 4686 4574 4543 4528 4482 4465 4351 4346 4264 4252 4246 4238 4237 4182 4151 4139 4125 4123 4105 4102 4095 4086 4084 4079 4013 3980 3944 3866 3787 3708 3679 3671 3571 3403 3365 3343 3321 3300 3205 3090 3060 3026 2999 2919 2858 2853 2748 2677 2622 2590 2521 2502 2397 2387 2330 2307 2276 2262 2221 2066 2043 2016 1950 1898 1877 1820 1776 1497 1457 1383 1255 1094 992 963 824 730 714 653 363 245 ]\n"
     ]
    }
   ],
   "source": [
    "with open('/home/elleu/Scrivania/CS2_Repo/assignment #3/lgis.txt', 'r') as file:\n",
    "    numbers = file.read().split()\n",
    "    \n",
    "numbers = [int(num) for num in numbers]\n",
    "n = numbers.pop(0)\n",
    "\n",
    "\n",
    "def lis(n, numbers):\n",
    "    tracker = [1] * n\n",
    "    prev = [-1] * n  \n",
    "    for i in range(1, n):\n",
    "        for j in range(i):\n",
    "            if numbers[i] > numbers[j] and tracker[i] < tracker[j] + 1:\n",
    "                tracker[i] = tracker[j] + 1\n",
    "                prev[i] = j\n",
    "    \n",
    "    longest_increasing_length = max(tracker)\n",
    "    \n",
    "    longest_increasing = []\n",
    "    indexx = tracker.index(longest_increasing_length)\n",
    "    while indexx != -1:\n",
    "        longest_increasing.append(numbers[indexx])\n",
    "        indexx = prev[indexx]\n",
    "    \n",
    "    return longest_increasing[::-1]\n",
    "\n",
    "def lds(numbers):\n",
    "    return lis(n, numbers[::-1])[::-1]\n",
    "\n",
    "lis_output = lis(n, numbers)\n",
    "lds_output = lds(numbers)\n",
    "\n",
    "print('[', ' '.join(str(x) for x in lis_output), ']')\n",
    "print('[', ' '.join(str(x) for x in lds_output), ']')\n",
    "\n",
    "\n"
   ]
  },
  {
   "cell_type": "markdown",
   "metadata": {},
   "source": [
    "## 02 sseq"
   ]
  },
  {
   "cell_type": "code",
   "execution_count": 3,
   "metadata": {},
   "outputs": [
    {
     "name": "stdout",
     "output_type": "stream",
     "text": [
      "[ 5 18 22 30 33 34 35 38 42 44 50 54 59 60 63 64 66 86 93 94 106 110 111 123 132 137 150 151 152 ]\n"
     ]
    }
   ],
   "source": [
    "from Bio import SeqIO\n",
    "from Bio.Seq import Seq\n",
    "\n",
    "s, t = [], []\n",
    "\n",
    "with open(\"/home/elleu/Scrivania/CS2_Repo/assignment #3/sseq.txt\", 'r') as file:\n",
    "    for record in SeqIO.parse(file, 'fasta'):\n",
    "        if s == []:\n",
    "            s = Seq(record.seq)\n",
    "        else: \n",
    "            t = Seq(record.seq)\n",
    "\n",
    "\n",
    "s_index, t_index = 0, 0\n",
    "indices = []\n",
    "    \n",
    "while s_index < len(s) and t_index < len(t):\n",
    "    if s[s_index] == t[t_index]:\n",
    "        indices.append(s_index + 1) \n",
    "        t_index += 1 \n",
    "    s_index += 1      \n",
    "    \n",
    "print('[', ' '.join(str(x) for x in indices), ']')\n"
   ]
  },
  {
   "cell_type": "markdown",
   "metadata": {},
   "source": [
    "## 03 lcsq"
   ]
  },
  {
   "cell_type": "code",
   "execution_count": null,
   "metadata": {},
   "outputs": [
    {
     "name": "stdout",
     "output_type": "stream",
     "text": [
      "TCTATATGGCCCGTTAGTCCGGACCTCACGTACTTGATTCTCCGACGGCTCCAAATCTGGCTAATTGGAGCGGGCCAATACTCTGAAGTCCGTGATTAATCAAAGACTTAATGGGAGTTTGGTTGCCTTCCCCCTGACTGCAAGCGACTCACTGTTCAGCCCTTGCGTGATGAGGGGGACATCGTGGCTCTTACCTGCATAAGGCTCAGCATCGGTCGACCCCATATAGGCCGACAAATACGACATTAAAAAACCAATCACCAAAGTATGAAGACGGGCTGTGTGAAGTAAGGGTATCTTCGCCAGGAACTCATCTGCGCCAACTAAATATTAAGGCAGAGTATACGGCCTTCCGCCCGCTATAAATGCTCGCAGCAACTTTTGTTAAATCTTCCGATAAGTACGCCCCGCCCCCAGCAAAGCGGGTGCTTATCCCACCCTAGGTACGCTGAGGCCAGTCTGTGACAGTTTAACCGTTTGGCATTTACGGACGGGCAGCCCAACGTGCGGGGCCTTACTAGAAAGTGATACTGAATGCCACACCCCCGAGAGATTACCATATACGCTCGTATCAGATCGGAAAAAG\n"
     ]
    }
   ],
   "source": [
    "s, t = '', ''\n",
    "\n",
    "with open(\"/home/elleu/Scrivania/CS2_Repo/assignment #3/lcsq.txt\", 'r') as file:\n",
    "    for record in SeqIO.parse(file, 'fasta'):\n",
    "        if s == '':\n",
    "            s = Seq(record.seq)\n",
    "        else: \n",
    "            t = Seq(record.seq)\n",
    "\n",
    "dp_array = [[0 for j in range(len(t) + 1)] for i in range(len(s) + 1)]\n",
    "#creates array of len(s) containing arrays of len(t) filled with 0\n",
    "for s_index, s_item in enumerate(s):\n",
    "    for t_index, t_item in enumerate(t):\n",
    "        if s_item == t_item:\n",
    "            dp_array[s_index + 1][t_index + 1] = dp_array[s_index][t_index] + 1\n",
    "        else:\n",
    "            dp_array[s_index + 1][t_index + 1] = max(dp_array[s_index + 1][t_index], dp_array[s_index][t_index + 1])\n",
    "\n",
    "output = ''\n",
    "len_s, len_t = len(s), len(t)\n",
    "while len_s * len_t != 0:\n",
    "    if dp_array[len_s][len_t] == dp_array[len_s - 1][len_t]:\n",
    "        len_s -= 1\n",
    "    elif dp_array[len_s][len_t] == dp_array[len_s][len_t - 1]:\n",
    "        len_t -= 1\n",
    "    else:\n",
    "        output = s[len_s - 1] + output\n",
    "        len_s -= 1\n",
    "        len_t -= 1\n",
    "print(output)\n"
   ]
  },
  {
   "cell_type": "markdown",
   "metadata": {},
   "source": [
    "## 04 edit"
   ]
  },
  {
   "cell_type": "code",
   "execution_count": 36,
   "metadata": {},
   "outputs": [
    {
     "name": "stdout",
     "output_type": "stream",
     "text": [
      "314\n"
     ]
    }
   ],
   "source": [
    "\n",
    "s, t = '', ''\n",
    "\n",
    "with open(\"/home/elleu/Scrivania/CS2_Repo/assignment #3/edit.txt\", 'r') as file:\n",
    "    for record in SeqIO.parse(file, 'fasta'):\n",
    "        if s == '':\n",
    "            s = Seq(record.seq)\n",
    "        else: \n",
    "            t = Seq(record.seq)\n",
    "\n",
    "def edit_distance(s, t):\n",
    "    dp_array = {}\n",
    "    for t_item in range(len(t) + 1): dp_array[t_item, 0] = t_item\n",
    "    for s_item in range(len(s) + 1): dp_array[0, s_item] = s_item\n",
    "\n",
    "    for t_item in range(len(t)):\n",
    "        for s_item in range(len(s)):\n",
    "            if s[s_item] == t[t_item]: dp_array[t_item + 1, s_item + 1] = dp_array[t_item, s_item]\n",
    "            else: dp_array[t_item + 1, s_item + 1] = min([dp_array[t_item + 1, s_item], dp_array[t_item, s_item], dp_array[t_item, s_item + 1]]) + 1\n",
    "\n",
    "    return dp_array[len(t), len(s)]\n",
    "\n",
    "print(edit_distance(s,t))"
   ]
  },
  {
   "cell_type": "markdown",
   "metadata": {},
   "source": [
    "## 05 edta"
   ]
  },
  {
   "cell_type": "code",
   "execution_count": 10,
   "metadata": {},
   "outputs": [
    {
     "name": "stdout",
     "output_type": "stream",
     "text": [
      "408\n",
      "R-----NFEP-----EILF-SSDLP---LLPTCAEYTKLVFFQMG-LTQINGLEHNMKYFWREGLPN-SG------IWEP---TAPCPYAPGELPRRGECTTFSPHYCEKAIDKDK----QKLMKLKIGPKYQLC-GF--ADFMECWNPWGRYLRTCCCWNCYFCTGMNQPDGNATALSVHIVHTGRWRCRINCWEEDWRWSWWRCRFMFCHVSFGRDSPQRCPGDWM--S-QLMW-KMGN-QR--MFNTTSLDLKVTGKDNRVQDYYMSINMERANGFSCQYVQGQISLEKYAVAWFDAIRNPCCLLYWWGGFTWVLHNSYTVHHHLHWGY--PTVFYMCFSTDYQSWQHMRRKGFGMHIHKDVICHHEWNQEQGCDSCPQWFLYDYRMAHTFEVR-PCQRNCCNDSEDYCKDYW---VALRSWCFPPGYSHQKIL----LLN-YMRGSK--PERPF------GH-NGMECIMQKRK-------MYYRFCP-FIII------MSFCQAQFHWGFSSERPFAKGPYTVY--WRMVEKPNIIHAIWNRMTN---HWR----N-P-DSITQMAALTPDWHIGRNACHLNFIEGASMDRGKETHKPSRPHWQDHEGEFVKIWISDEGAMEFVALN-QRYYETLWSKQPEFAQYY-----Y--HVGRVQIT----HDMCM--RFGWILHHMVVVQYY-YVSPEHC--SKECIFK------GSFSHVDCQQWRFEPKQGQIDYNCWMDANGVWHEFGNTEWPARAYPQGDENRDVWVFWRCVFVEIFSMKKDCQTEQVNPIGIACEHENEYEQSNDHEAVGVYW-------THNLDYMPIHGQWAPSVDYNHSMDLGMNAVVSFESMNDRADQDISRHPQCYHVLFKPCKADVIANAHVTIISWNISWWWFWNEWHPFTYEPHHYNWPLTIHI-H--NCNICLQKSRAPDLWWNNGYQNAWAFNNMTKMAILRRQTEILLWIRSKIGTMDEYECEICHSSLDVAYD\n",
      "FKYWWDNFERQLRTIEILPGSSDLHHWYLLPTCVVFQMLWGVGMYFLRQINGLEHNMKYFWRMGLPHFSLKEFQASIWEYLCSTAP-PYMIDI-PRRGEDTTFHTHYCSKAIDKDKDWNSQKKMKLKIGPKYTWEQGVHKADLPS--NKH-RPQVTCCCWNQYTIHR-NQPDGNATALS-----TGRWRCR----EEDWR---WRCRFMFCHVSFDRFW--RCYYMTALDSRQKDPGKPCNRQYCWMRKMGW-DLKVTGKDNRVQDYYMSINMERANGFSCQYVEGQISLEKYAVT----------LL-WWGGF----HNSYTVKHHLHWGQFAPTVFYMCFSTDYQIWNAEDYLGFGMNILERS---HEWN----------WFLYDLSMAGCPGAFGPCQRNHCNDSEGYCKDYSRAMVALRSWCFPPGYSHQKYNASPVLLHTYMRGSDESPERPRHCPEEYGNVNGMRCIMQKRMNSHLCRAMYYRF-PMFIIIPDQWLFMSF--AQFHKGFSSERPFA--PYPVMKHWRMV-----IHAISNRMTESWHHWRNCNMNTPSDPITQMAALTPCPGKY-NACHLNFIFGASMDRGK--HWECMLQ-QTYPPIGV---ISDEGAMEFVA-NFQRYYETLWSIAW-FTIKYAGDCVYMHHVGRVQINAMRQHDMCWYARFLWILHHMVVVQYSSYVSPEHGAHSKECIFNHMQASSGSFSHVDHQQWRFEPKQVQ---NCWWDMNAVWHEFG----PAAAYHQGDENRIVWVFWKC--V---S----CQDEQVPPIQIACEHINEYEQSNDHEAVGVYHMSQEPYYTHNLDYMPIHGFHAPSVDYNC-M--G---VVSFETQNDRADG----HPQCYHCL---CKADVIENAHVTIISWNISWWWFWNEWHPFSGCYA-YFAYLMI-IPHYYNWNECLQKSIAPAL----G--------NMTK------QTEILLWIRSKIGGMDEYRCEICHSHLDVAND\n"
     ]
    }
   ],
   "source": [
    "from Bio import pairwise2\n",
    "#from Bio.pairwise2 import format_alignment\n",
    "\n",
    "s, t = '', ''\n",
    "\n",
    "with open(\"/home/elleu/Scrivania/CS2_Repo/assignment #3/edta.txt\", 'r') as file:\n",
    "    for record in SeqIO.parse(file, 'fasta'):\n",
    "        if s == '':\n",
    "            s = Seq(record.seq)\n",
    "        else: \n",
    "            t = Seq(record.seq)\n",
    "\n",
    "def edit_distance(s, t):\n",
    "    m, n = len(s), len(t)\n",
    "    dp_array = [[0] * (n + 1) for _ in range(m + 1)]\n",
    "\n",
    "    for i in range(m + 1):\n",
    "        dp_array[i][0] = i\n",
    "    for j in range(n + 1):\n",
    "        dp_array[0][j] = j\n",
    "\n",
    "    for i in range(1, m + 1):\n",
    "        for j in range(1, n + 1):\n",
    "            if s[i - 1] == t[j - 1]:\n",
    "                dp_array[i][j] = dp_array[i - 1][j - 1]\n",
    "            else:\n",
    "                dp_array[i][j] = min(dp_array[i - 1][j] + 1, \n",
    "                               dp_array[i][j - 1] + 1,  \n",
    "                               dp_array[i - 1][j - 1] + 1)  \n",
    "\n",
    "    edit_distance = dp_array[m][n]\n",
    "\n",
    "    s_prime, t_prime = [], []\n",
    "    i, j = m, n\n",
    "    while i > 0 or j > 0:\n",
    "        if i > 0 and j > 0 and s[i - 1] == t[j - 1]:\n",
    "            s_prime.append(s[i - 1])\n",
    "            t_prime.append(t[j - 1])\n",
    "            i -= 1\n",
    "            j -= 1\n",
    "        elif i > 0 and (j == 0 or dp_array[i - 1][j] + 1 == dp_array[i][j]):\n",
    "            s_prime.append(s[i - 1])\n",
    "            t_prime.append('-')\n",
    "            i -= 1\n",
    "        elif j > 0 and (i == 0 or dp_array[i][j - 1] + 1 == dp_array[i][j]):\n",
    "            s_prime.append('-')\n",
    "            t_prime.append(t[j - 1])\n",
    "            j -= 1\n",
    "        else:\n",
    "            s_prime.append(s[i - 1])\n",
    "            t_prime.append(t[j - 1])\n",
    "            i -= 1\n",
    "            j -= 1\n",
    "\n",
    "    s_prime = ''.join(reversed(s_prime))\n",
    "    t_prime = ''.join(reversed(t_prime))\n",
    "\n",
    "    return edit_distance, s_prime, t_prime\n",
    "\n",
    "edit_distance_value, s_prime, t_prime = edit_distance(s, t)\n",
    "\n",
    "print(edit_distance_value)\n",
    "print(s_prime)\n",
    "print(t_prime)\n",
    "\n"
   ]
  },
  {
   "cell_type": "markdown",
   "metadata": {},
   "source": [
    "## 06 ctea"
   ]
  },
  {
   "cell_type": "code",
   "execution_count": 31,
   "metadata": {},
   "outputs": [
    {
     "name": "stdout",
     "output_type": "stream",
     "text": [
      "123784178\n"
     ]
    }
   ],
   "source": [
    "s, t = '', ''\n",
    "\n",
    "with open(\"/home/elleu/Scrivania/CS2_Repo/assignment #3/ctea.txt\", 'r') as file:\n",
    "    for record in SeqIO.parse(file, 'fasta'):\n",
    "        if s == '':\n",
    "            s = Seq(record.seq)\n",
    "        else: \n",
    "            t = Seq(record.seq)\n",
    "\n",
    "def optimal_alignments(s, t):\n",
    "    min_edit_distance, optimal_ways = {}, {}\n",
    "    for j in range(len(t) + 1):\n",
    "        min_edit_distance[j, 0] = j\n",
    "        optimal_ways[j, 0] = 1\n",
    "\n",
    "    for i in range(len(s) + 1):\n",
    "        min_edit_distance[0, i] = i\n",
    "        optimal_ways[0, i] = 1\n",
    "\n",
    "    for j in range(len(t)):\n",
    "        for i in range(len(s)):\n",
    "            pos = [(j + 1, i), (j, i), (j, i + 1)]\n",
    "            cost = [1, int(s[i] != t[j]), 1]\n",
    "            scores = [min_edit_distance[pos[x]] + cost[x] for x in range(3)]\n",
    "            minimum_score = min(scores)\n",
    "            upd_idx = (j + 1, i + 1)\n",
    "            min_edit_distance[upd_idx] = minimum_score\n",
    "            optimal_ways[upd_idx] = sum(optimal_ways[pos[x]] for x in range(3) if scores[x] == minimum_score)\n",
    "\n",
    "    return optimal_ways[len(t), len(s)] % 134217727\n",
    "\n",
    "print(optimal_alignments(s,t))"
   ]
  },
  {
   "cell_type": "markdown",
   "metadata": {},
   "source": [
    "## 07 glob"
   ]
  },
  {
   "cell_type": "code",
   "execution_count": 24,
   "metadata": {},
   "outputs": [
    {
     "name": "stdout",
     "output_type": "stream",
     "text": [
      "IWTVDVYWFAPGHWDEFRQGKHCWQEQVMHPLEHDYYRWICSWWGPRGYKEREGTEWWPGGHTNVACKMHEHKTFFHGMYHNWTW----NQWVN-D---TD-EYPEYY--SYHCFHEVFLPGALCTYSPQCLCFMIGDTRALWDKQPHVNCIEGRKDTKSLKGYKEGFNQLQFHKIDYNWYPPMAWKHIISG--A--DYVWNHKHREWEDADYLPYAK--H---P-GGGEPHLGPSQWPMWRQALHQGKFNGKYVWAVIWMTNL-WKEKYREWKYVVFAVAYEQMNSSAKTNHVACSMGREDQNI-Y-QSY---CFQPAPCSNYYQGCLDGQPPHAVAN---W--VGDDLQSQYELVFVLVRATKCGWAVARGYMAKMAHENCWQCMAEFNDACDWRRRWVGICSHKSVIWSFEDLPWVTHYVRQRMQNWTNQVCDRAHYVWMIRKGKGCQLMLYHCIMYNNPMEPLIYRMSIFITANWGICVNKRFEQIFHSSQQ-----G-WN-Y-HF-DVYTAVPQFPCYLCRVDIQNHQTGQIIFHRNMPNFKLEPTWPPKHLITPASFLERAECD----M-EQSMSNARIRFYTQNMDIQDKFATLEKFQPYDRWRMYGFWMCVKEKYR---W---YI--MTTPTNNCSYNHIWKYVGTMVDKSAFYPLGSMMSNRNCSTRGKRAMYYPMWGLKHWSTFSVLQHHWCECKEYGWCECVTLWHKCSFHCLKYCHPMVFCNSDRKYIVPVWYCHHTFMGAHDEYWFVGQKCRNCRYGEDIRICQWTYQ\n",
      "|||..|||.|||.||     ||||||||.|||||| |   |            ||||||||||||||| ....|..|..|||||.    ||||. .   .. |||||.  ||||||||||||||||||||||.||||||||||||      ||||||||||||||||||.|||     ||||||||| ||||  .  |.|||||||| ....||||||  .   | ||||..| |||||||||||||||.|||||... .. |. |||.||        |.||||||||||||||||.||||||| . |||   .|||||||.||     |||||||||   |  ||||||.||||||||||||||||||||||||||. |     .   |.|||||||||||.|||||||||||||   . |          ||||||.|||||  |  .|....|||||||||||||         |.|||.||||||||||||     | .. . .| |.|..|||.||||||||||||||||||.|.    .  ||||||||||||||||||||||    | ||.|||||||||||||||||   ||||||||||||.||||||||||||   .   |.  |.|||||||||||||.||||||      |||||||.||||   |    ||||||||||.|||......|....||||||||||    |   |||||  |  | ||||||||   |.|.....|....... |||||||||||||||\n",
      "IWTEWVYWAAPGIWD-----KHCWQEQVDHPLEHD-Y---C------------GTEWWPGGHTNVACK-GIWSTHEHKTYHNWTLPIDQNQWVHPQHQRVNGEYPEYQICSYHCFHEVFLPGALCTYSPQCLDFMIGDTRALWDK------IEGRKDTKSLKGYKEGFNLLQF-----NWYPPMAWK-IISGNNEKEDAVWNHKHRE-KLVVYLPYAKFVNKKTPPGGGEMVL-PSQWPMWRQALHQGKANGKYVHQQ-HV-NVHWKEDYR--------VRYEQMNSSAKTNHVACSSGREDQNITHHQSYVHIAFQPAPCSVYY-----GQPPHAVANSNVWGIVGDDLQCQYELVFVLVRATKCGWAVARGYMAKMS-E-----L---NVACDWRRRWVGIHSHKSVIWSFEDLP---G-V----------VCDRAHTVWMIR--K--MLYWRTCIMYNNPMEPLIY---------WQICVMKRFEQIFHSSQQPKHHQGEFETMARFVDTYALVPQVPCYLCRVDIQNHQTGQIILHK----Y--EPTWPPKHLITPASFLERAECDHLIFMMEQVMSNARIRFYTQNMDIQD---TLEKFQPYDRWRYYGFWMCVKEKYREDGMMSEYMWWMMTPTNNCSYNHIWKEVGTMVD------LGSMMSNKNCST---R----PMWGLKHWSTQSVLWYTGDQCWFHHWCECVTLWHK----C---CHPMV--N--R-YIVPVWYC---FVGQKCRCWWPIEHVL-CRYGEDIRICQWTYQ\n",
      "  Score=1983\n",
      "\n"
     ]
    }
   ],
   "source": [
    "\n",
    "from Bio import SeqIO, pairwise2\n",
    "from Bio.Align import substitution_matrices\n",
    "\n",
    "s, t = '', ''\n",
    "\n",
    "with open(\"/home/elleu/Scrivania/CS2_Repo/assignment #3/glob.txt\", 'r') as file:\n",
    "    for record in SeqIO.parse(file, 'fasta'):\n",
    "        if s == '':\n",
    "            s = Seq(record.seq)\n",
    "        else: \n",
    "            t = Seq(record.seq)\n",
    "\n",
    "blosum62 = substitution_matrices.load(\"BLOSUM62\")\n",
    "\n",
    "def max_alignment_score(seq1, seq2):\n",
    "    alignments = pairwise2.align.globalds(seq1, seq2, blosum62, -5, -5)\n",
    "\n",
    "    return pairwise2.format_alignment(*alignments[0])\n",
    "\n",
    "print(max_alignment_score(s, t))"
   ]
  },
  {
   "cell_type": "markdown",
   "metadata": {},
   "source": [
    "# Biopython - alignment"
   ]
  },
  {
   "cell_type": "code",
   "execution_count": 27,
   "metadata": {},
   "outputs": [
    {
     "name": "stdout",
     "output_type": "stream",
     "text": [
      "countMatches:190\n",
      "countMismatches:103\n",
      "countGapOpens: 44\n",
      "countGapExtensions: 61\n",
      "getScore: 158.00000000000057\n"
     ]
    }
   ],
   "source": [
    "from Bio import pairwise2\n",
    "from Bio import SeqIO\n",
    "\n",
    "with open(r\"/home/elleu/Scrivania/CS2_Repo/assignment #3/IL12A.fasta\", \"r\") as seq1:\n",
    "    chain_A = SeqIO.read(seq1, 'fasta')\n",
    "\n",
    "with open(r\"/home/elleu/Scrivania/CS2_Repo/assignment #3/IL12B.fasta\", \"r\") as seq2:\n",
    "    chain_B = SeqIO.read(seq2, 'fasta')\n",
    "\n",
    "def countMatches(s1, s2):\n",
    "    alignments = pairwise2.align.globalxx(s1, s2)\n",
    "    aligned_s1, aligned_s2, score, start, end = alignments[0]\n",
    "    match_count = sum(1 for a, b in zip(aligned_s1, aligned_s2) if a == b)\n",
    "    \n",
    "    return match_count\n",
    "\n",
    "first_output = countMatches(chain_A, chain_B)\n",
    "print(f\"countMatches:{first_output}\")\n",
    "\n",
    "def countMismatches(s1,s2):\n",
    "    alignments = pairwise2.align.globalxx(s1, s2)\n",
    "    aligned_s1, aligned_s2, score, start, end = alignments[0]\n",
    "    mismatch_count = sum(1 for a, b in zip(aligned_s1, aligned_s2) if a != b)\n",
    "    \n",
    "    return mismatch_count\n",
    "\n",
    "second_output = countMismatches(chain_A, chain_B)\n",
    "print(f\"countMismatches:{second_output}\")\n",
    "\n",
    "def countGapOpens(s1, s2):\n",
    "    alignments = pairwise2.align.globalxx(s1, s2)\n",
    "    aligned_s1, aligned_s2, score, start, end = alignments[0]\n",
    "    gap_opens_s1, gap_opens_s2 = 0,0\n",
    "    gap_in_s1, gap_in_s2 = False, False\n",
    "    \n",
    "    for a, b in zip(aligned_s1, aligned_s2):\n",
    "        if a == '-' and not gap_in_s1:  \n",
    "            gap_opens_s1 += 1\n",
    "            gap_in_s1 = True\n",
    "        elif a != '-' and gap_in_s1:\n",
    "            gap_in_s1 = False\n",
    "        \n",
    "        if b == '-' and not gap_in_s2:\n",
    "            gap_opens_s2 += 1\n",
    "            gap_in_s2 = True\n",
    "        elif b != '-' and gap_in_s2:\n",
    "            gap_in_s2 = False\n",
    "    \n",
    "    return gap_opens_s1 + gap_opens_s2\n",
    "\n",
    "\n",
    "third_output = countGapOpens(chain_A, chain_B)\n",
    "print(f\"countGapOpens: {third_output}\")\n",
    "\n",
    "def countGapExtensions(s1, s2):\n",
    "    alignments = pairwise2.align.globalxx(s1,s2)\n",
    "    aligned_s1, aligned_s2, score, start, end = alignments[0]\n",
    "    gap_extensions_s1, gap_extensions_s2 = 0, 0\n",
    "    gap_in_s1, gap_in_s2 = False, False\n",
    "    \n",
    "    for a, b in zip(aligned_s1, aligned_s2):\n",
    "        if a == '-':\n",
    "            if gap_in_s1:  \n",
    "                gap_extensions_s1 += 1\n",
    "            else:  \n",
    "                gap_in_s1 = True\n",
    "        \n",
    "        if b == '-':\n",
    "            if gap_in_s2:  \n",
    "                gap_extensions_s2 += 1\n",
    "            else:  \n",
    "                gap_in_s2 = True\n",
    "\n",
    "        if a != '-':\n",
    "            gap_in_s1 = False\n",
    "        if b != '-':\n",
    "            gap_in_s2 = False\n",
    "\n",
    "    return gap_extensions_s1 + gap_extensions_s2\n",
    "\n",
    "fourth_output = countGapExtensions(chain_A, chain_B)\n",
    "print(f\"countGapExtensions: {fourth_output}\")\n",
    "\n",
    "\n",
    "def getScore(s1, s2, matchScore, mismatchPenalty, gapOpenPenalty, gapExtensionPenalty):\n",
    "    alignments = pairwise2.align.globalms(s1, s2, matchScore, mismatchPenalty, gapOpenPenalty, gapExtensionPenalty)\n",
    "    \n",
    "    return alignments[0][2]\n",
    "\n",
    "fifth_output= getScore(chain_A, chain_B, 1, -1, -0.5, -0.2)\n",
    "print(f\"getScore: {fifth_output}\")"
   ]
  },
  {
   "cell_type": "markdown",
   "metadata": {},
   "source": [
    "# Map Reduce"
   ]
  },
  {
   "cell_type": "markdown",
   "metadata": {},
   "source": [
    "## Exercise 1"
   ]
  },
  {
   "cell_type": "code",
   "execution_count": null,
   "metadata": {},
   "outputs": [],
   "source": [
    "from functools import reduce\n",
    "\n",
    "\n",
    "students = [\n",
    "    {\"name\": \"Alice\", \"scores\": [95, 92, 88, 100]},\n",
    "    {\"name\": \"Bob\", \"scores\": [78, 81, 85, 80]},\n",
    "    {\"name\": \"Charlie\", \"scores\": [99, 91, 94, 96]},\n",
    "    {\"name\": \"Diana\", \"scores\": [85, 87, 89, 83]}]\n",
    "\n",
    "stud_avg = map(lambda student: { \"name\": student[\"name\"], \"average_score\": reduce(lambda a, b: a + b, student[\"scores\"]) /len(student[\"scores\"])\n",
    "}, students)\n",
    "\n",
    "above_90 = list(filter(lambda student: student[\"average_score\"] > 90, stud_avg))\n",
    "above_90"
   ]
  },
  {
   "cell_type": "markdown",
   "metadata": {},
   "source": [
    "## Exercise 2"
   ]
  },
  {
   "cell_type": "code",
   "execution_count": null,
   "metadata": {},
   "outputs": [],
   "source": [
    "from collections import defaultdict\n",
    "products = [\n",
    "    {\"name\": \"Product A\", \"price\": 60, \"category\": \"Electronics\"},\n",
    "    {\"name\": \"Product B\", \"price\": 40, \"category\": \"Electronics\"},\n",
    "    {\"name\": \"Product C\", \"price\": 70, \"category\": \"Home\"},\n",
    "    {\"name\": \"Product D\", \"price\": 30, \"category\": \"Home\"},\n",
    "    {\"name\": \"Product E\", \"price\": 90, \"category\": \"Sports\"}]\n",
    "\n",
    "category_merg = defaultdict(list)\n",
    "for item in products: category_merg[item[\"category\"]].append(item[\"price\"])\n",
    "\n",
    "category_avg = map(lambda category: { \"category\": category, \"average_price\": reduce(lambda a, b: a + b, category_merg[category]) / len(category_merg[category])\n",
    "}, category_merg)\n",
    "\n",
    "above_50 = list(filter(lambda category: category[\"average_price\"] >= 50, category_avg) )\n",
    "above_50"
   ]
  },
  {
   "cell_type": "markdown",
   "metadata": {},
   "source": [
    "## Exercise 3"
   ]
  },
  {
   "cell_type": "code",
   "execution_count": null,
   "metadata": {},
   "outputs": [],
   "source": [
    "employees = [\n",
    "    {\"name\": \"John\", \"salary\": 70000, \"department\": \"Engineering\"},\n",
    "    {\"name\": \"Jane\", \"salary\": 75000, \"department\": \"Engineering\"},\n",
    "    {\"name\": \"Alice\", \"salary\": 60000, \"department\": \"HR\"},\n",
    "    {\"name\": \"Bob\", \"salary\": 68000, \"department\": \"HR\"},\n",
    "    {\"name\": \"Charlie\", \"salary\": 90000, \"department\": \"Marketing\"},\n",
    "    {\"name\": \"Diana\", \"salary\": 50000, \"department\": \"Marketing\"}]\n",
    "\n",
    "department_merg = defaultdict(list)\n",
    "for person in employees: department_merg[person[\"department\"]].append(person[\"salary\"])\n",
    "\n",
    "salary_by_deparment = map(lambda department: {\"department\": department, \"average_salary\": reduce(lambda a, b: a + b, department_merg[department]) / len(department_merg[department])\n",
    "}, department_merg)\n",
    "\n",
    "above_65k = list(filter(lambda department: department[\"average_salary\"] > 65000, salary_by_deparment))\n",
    "above_65k"
   ]
  }
 ],
 "metadata": {
  "kernelspec": {
   "display_name": "Python 3",
   "language": "python",
   "name": "python3"
  },
  "language_info": {
   "codemirror_mode": {
    "name": "ipython",
    "version": 3
   },
   "file_extension": ".py",
   "mimetype": "text/x-python",
   "name": "python",
   "nbconvert_exporter": "python",
   "pygments_lexer": "ipython3",
   "version": "3.12.7"
  }
 },
 "nbformat": 4,
 "nbformat_minor": 2
}
